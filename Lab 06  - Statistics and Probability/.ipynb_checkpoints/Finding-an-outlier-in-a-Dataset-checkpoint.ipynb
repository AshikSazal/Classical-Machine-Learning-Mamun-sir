{
 "cells": [
  {
   "cell_type": "markdown",
   "metadata": {},
   "source": [
    "### What is an outlier?\n",
    "An outlier is a data point in a data set that is distant from all other observations. A data point that lies outside the overall distribution of the dataset."
   ]
  },
  {
   "cell_type": "code",
   "execution_count": 1,
   "metadata": {},
   "outputs": [],
   "source": [
    "import numpy as np\n",
    "import pandas as pd\n",
    "import seaborn as sn\n",
    "import matplotlib.pyplot as plt\n",
    "%matplotlib inline"
   ]
  },
  {
   "cell_type": "markdown",
   "metadata": {},
   "source": [
    "### What are the criteria to identify an outlier?\n",
    "\n",
    "1. Data point that falls outside of 1.5 times of an interquartile range above the 3rd quartile and below the 1st quartile\n",
    "2. Data point that falls outside of 3 standard deviations. we can use a z score and if the z score falls outside of 2 standard deviation\n",
    "\n",
    "### What is the reason for an outlier to exists in a dataset?\n",
    "\n",
    "1. Variability in the data\n",
    "2. An experimental measurement error\n",
    "\n",
    "### What are the impacts of having outliers in a dataset?\n",
    "\n",
    "1. It causes various problems during our statistical analysis\n",
    "2. It may cause a significant impact on the mean and the standard deviation\n",
    "\n",
    "### Various ways of finding the outlier.\n",
    "1. Using scatter plots\n",
    "2. Box plot\n",
    "3. using z score\n",
    "4. using the IQR interquantile range\n",
    "5. Clustering\n",
    "\n"
   ]
  },
  {
   "cell_type": "code",
   "execution_count": 2,
   "metadata": {},
   "outputs": [
    {
     "name": "stdout",
     "output_type": "stream",
     "text": [
      "[10, 10, 10, 10, 10, 11, 11, 12, 12, 12, 12, 12, 12, 12, 13, 13, 13, 13, 14, 14, 14, 14, 14, 14, 15, 15, 15, 15, 15, 17, 19, 102, 107, 108]\n",
      "34\n"
     ]
    }
   ],
   "source": [
    "dataset= [11,10,12,14,12,15,14,13,15,102,12,14,17,19,107, 10,13,12,14,12,108,12,11,14,13,15,10,15,12,10,14,13,15,10]\n",
    "dataset.sort()\n",
    "print(dataset)\n",
    "print(len(dataset))"
   ]
  },
  {
   "cell_type": "markdown",
   "metadata": {},
   "source": [
    "# 1. Detecting outlier using Scatter plots"
   ]
  },
  {
   "cell_type": "markdown",
   "metadata": {},
   "source": [
    "The Matplotlib module has a method for drawing scatter plots, it needs two arrays of the same length,\n",
    "one for the values of the x-axis, and one for the values of the y-axis:"
   ]
  },
  {
   "cell_type": "code",
   "execution_count": 3,
   "metadata": {},
   "outputs": [
    {
     "data": {
      "image/png": "[encoded data removed]",
      "text/plain": [
       "<Figure size 432x288 with 1 Axes>"
      ]
     },
     "metadata": {},
     "output_type": "display_data"
    }
   ],
   "source": [
    "# Scatter plot.\n",
    "#plt.scatter(dataset)\n",
    "#sn.scatter(dataset)\n",
    "\n",
    "import matplotlib.pyplot as plt\n",
    "\n",
    "x = [5,7,8,10, 90]\n",
    "y = [10,12,18,20, 80]\n",
    "\n",
    "plt.scatter(x, y)\n",
    "plt.show()"
   ]
  },
  {
   "cell_type": "code",
   "execution_count": 4,
   "metadata": {},
   "outputs": [
    {
     "name": "stdout",
     "output_type": "stream",
     "text": [
      "[10, 10, 10, 10, 10, 11, 11, 12, 12, 12, 12, 12, 12, 12, 13, 13, 13, 13, 14, 14, 14, 14, 14, 14, 15, 15, 15, 15, 15, 17, 19, 102, 107, 108]\n",
      "34\n"
     ]
    },
    {
     "data": {
      "text/plain": [
       "<matplotlib.axes._subplots.AxesSubplot at 0x120d75f8>"
      ]
     },
     "execution_count": 4,
     "metadata": {},
     "output_type": "execute_result"
    },
    {
     "data": {
      "image/png": "[encoded data removed]",
      "text/plain": [
       "<Figure size 432x288 with 1 Axes>"
      ]
     },
     "metadata": {},
     "output_type": "display_data"
    }
   ],
   "source": [
    "#Using Histogram\n",
    "dataset= [11,10,12,14,12,15,14,13,15,102,12,14,17,19,107, 10,13,12,14,12,108,12,11,14,13,15,10,15,12,10,14,13,15,10]\n",
    "dataset.sort()\n",
    "print(dataset)\n",
    "print(len(dataset))\n",
    "\n",
    "df = pd.DataFrame (dataset,columns=['Age'])\n",
    "#print (df)\n",
    "df['Age'].hist(bins=10)"
   ]
  },
  {
   "cell_type": "markdown",
   "metadata": {},
   "source": [
    "# 2. Detecting outlier using Box plots"
   ]
  },
  {
   "cell_type": "code",
   "execution_count": 24,
   "metadata": {},
   "outputs": [
    {
     "name": "stdout",
     "output_type": "stream",
     "text": [
      "[5, 35, 50, 55, 56, 60, 65, 70, 75, 78, 80, 80, 95, 150]\n"
     ]
    },
    {
     "data": {
      "text/plain": [
       "<matplotlib.axes._subplots.AxesSubplot at 0x133b9780>"
      ]
     },
     "execution_count": 24,
     "metadata": {},
     "output_type": "execute_result"
    },
    {
     "data": {
      "image/png": "[encoded data removed]",
      "text/plain": [
       "<Figure size 432x288 with 1 Axes>"
      ]
     },
     "metadata": {},
     "output_type": "display_data"
    }
   ],
   "source": [
    "# Box plot.\n",
    "#df.boxplot(column=['Col1', 'Col2', 'Col3']) # Pandas\n",
    "#plt.boxplot(dataset) # pyplot\n",
    "#ds=[5,10,15,20,21,14,15,8,9,8,8,9,6,100,105]\n",
    "ds=[5,35,50,60,70,80,65,55,78,56,75,80,95,150]\n",
    "ds.sort()\n",
    "print(ds)\n",
    "import seaborn as sn\n",
    "sn.boxplot(ds)   #seaborn"
   ]
  },
  {
   "cell_type": "markdown",
   "metadata": {},
   "source": [
    "## 3. Detecting outlier using Z score\n",
    "\n",
    "### Using Z score\n",
    "#observation: Each data point/ individual data point\n",
    "Formula for Z score = (Observation — Mean)/Standard Deviation\n",
    "\n",
    "z = (X — μ) / σ"
   ]
  },
  {
   "cell_type": "code",
   "execution_count": 6,
   "metadata": {},
   "outputs": [],
   "source": [
    "import numpy as np\n",
    "dataset= [11,10,12,14,12,15,14,13,15,102,12,14,17,19,107, 10,13,12,14,12,108,12,11,14,13,15,10,15,12,10,14,13,15,10]\n",
    "#dataset=[5,35,50,60,70,80,65,55,78,56,75,80,95,150]\n",
    "outliers=[]\n",
    "\n",
    "def detect_outliers(data):\n",
    "    threshold=2            # 1:68%,2:96%,3: 99.95%, >3 = Outlier\n",
    "    mean = np.mean(data)\n",
    "    std =np.std(data)\n",
    "    \n",
    "    for x in data:\n",
    "        z_score= (x - mean)/std \n",
    "        if np.abs(z_score) > threshold:\n",
    "            outliers.append(x)\n",
    "    return outliers"
   ]
  },
  {
   "cell_type": "code",
   "execution_count": 7,
   "metadata": {},
   "outputs": [],
   "source": [
    "outlier_pt=detect_outliers(dataset)"
   ]
  },
  {
   "cell_type": "code",
   "execution_count": 8,
   "metadata": {},
   "outputs": [
    {
     "data": {
      "text/plain": [
       "[102, 107, 108]"
      ]
     },
     "execution_count": 8,
     "metadata": {},
     "output_type": "execute_result"
    }
   ],
   "source": [
    "outlier_pt"
   ]
  },
  {
   "cell_type": "markdown",
   "metadata": {},
   "source": [
    "## 4.  InterQuantile Range\n",
    "\n",
    "75%- 25% values in a dataset\n",
    "\n",
    "### Steps\n",
    "#### 1. Arrange the data in increasing order\n",
    "#### 2. Calculate first(q1) and third quartile(q3)\n",
    "#### 3. Find interquartile range (q3-q1)\n",
    "#### 4.Find lower bound q1<-- iqr*1.5\n",
    "#### 5.Find upper bound q3--> iqr*1.5\n",
    "\n",
    "Anything that lies outside of lower and upper bound is an outlier"
   ]
  },
  {
   "cell_type": "code",
   "execution_count": 9,
   "metadata": {},
   "outputs": [
    {
     "name": "stdout",
     "output_type": "stream",
     "text": [
      "[11, 10, 12, 14, 12, 15, 14, 13, 15, 102, 12, 14, 17, 19, 107, 10, 13, 12, 14, 12, 108, 12, 11, 14, 13, 15, 10, 15, 12, 10, 14, 13, 15, 10]\n",
      "------------ Sorted set ------------\n",
      "[10, 10, 10, 10, 10, 11, 11, 12, 12, 12, 12, 12, 12, 12, 13, 13, 13, 13, 14, 14, 14, 14, 14, 14, 15, 15, 15, 15, 15, 17, 19, 102, 107, 108]\n"
     ]
    }
   ],
   "source": [
    "dataset= [11,10,12,14,12,15,14,13,15,102,12,14,17,19,107, 10,13,12,14,12,108,12,11,14,13,15,10,15,12,10,14,13,15,10]\n",
    "print(dataset)\n",
    "print('------------ Sorted set ------------')\n",
    "## Perform all the steps of IQR\n",
    "print(sorted(dataset))"
   ]
  },
  {
   "cell_type": "code",
   "execution_count": 10,
   "metadata": {},
   "outputs": [
    {
     "data": {
      "text/plain": [
       "<matplotlib.axes._subplots.AxesSubplot at 0x13192908>"
      ]
     },
     "execution_count": 10,
     "metadata": {},
     "output_type": "execute_result"
    },
    {
     "data": {
      "image/png": "[encoded data removed]",
      "text/plain": [
       "<Figure size 432x288 with 1 Axes>"
      ]
     },
     "metadata": {},
     "output_type": "display_data"
    }
   ],
   "source": [
    "import seaborn as sn\n",
    "sn.boxplot(dataset) "
   ]
  },
  {
   "cell_type": "code",
   "execution_count": 11,
   "metadata": {},
   "outputs": [],
   "source": [
    "dataset=[1,2,3,100]"
   ]
  },
  {
   "cell_type": "code",
   "execution_count": 12,
   "metadata": {},
   "outputs": [],
   "source": [
    "quantile1= np.percentile(dataset,25)\n",
    "quantile3= np.percentile(dataset,75)"
   ]
  },
  {
   "cell_type": "code",
   "execution_count": 13,
   "metadata": {},
   "outputs": [],
   "source": [
    "quantile1, quantile3= np.percentile(dataset,[25,75])"
   ]
  },
  {
   "cell_type": "code",
   "execution_count": 14,
   "metadata": {},
   "outputs": [
    {
     "name": "stdout",
     "output_type": "stream",
     "text": [
      "1.75 27.25\n"
     ]
    }
   ],
   "source": [
    "print(quantile1,quantile3)"
   ]
  },
  {
   "cell_type": "code",
   "execution_count": 15,
   "metadata": {},
   "outputs": [
    {
     "name": "stdout",
     "output_type": "stream",
     "text": [
      "25.5\n"
     ]
    }
   ],
   "source": [
    "## Find the IQR\n",
    "iqr=quantile3-quantile1\n",
    "print(iqr)"
   ]
  },
  {
   "cell_type": "code",
   "execution_count": 16,
   "metadata": {},
   "outputs": [],
   "source": [
    "## Find the lower bound value and the higher bound value\n",
    "lower_bound_val = quantile1 -(1.5 * iqr) \n",
    "upper_bound_val = quantile3 +(1.5 * iqr) "
   ]
  },
  {
   "cell_type": "code",
   "execution_count": 17,
   "metadata": {},
   "outputs": [
    {
     "name": "stdout",
     "output_type": "stream",
     "text": [
      "-36.5 65.5\n"
     ]
    }
   ],
   "source": [
    "print(lower_bound_val,upper_bound_val)"
   ]
  },
  {
   "cell_type": "code",
   "execution_count": 18,
   "metadata": {},
   "outputs": [
    {
     "data": {
      "text/plain": [
       "[100]"
      ]
     },
     "execution_count": 18,
     "metadata": {},
     "output_type": "execute_result"
    }
   ],
   "source": [
    "outliers=[]\n",
    "\n",
    "def detect_outliers(data):      \n",
    "    for x in data:\n",
    "        if x<lower_bound_val or x> upper_bound_val:\n",
    "            outliers.append(x)\n",
    "    return outliers\n",
    "\n",
    "detect_outliers(dataset)"
   ]
  },
  {
   "cell_type": "code",
   "execution_count": 19,
   "metadata": {},
   "outputs": [
    {
     "name": "stdout",
     "output_type": "stream",
     "text": [
      "15\n",
      "6\n"
     ]
    }
   ],
   "source": [
    "def sum(a,b):\n",
    "    c=a+b\n",
    "    return c\n",
    "\n",
    "print(sum(5,10))\n",
    "print(sum(5,1))"
   ]
  },
  {
   "cell_type": "code",
   "execution_count": null,
   "metadata": {},
   "outputs": [],
   "source": []
  },
  {
   "cell_type": "code",
   "execution_count": null,
   "metadata": {},
   "outputs": [],
   "source": []
  }
 ],
 "metadata": {
  "kernelspec": {
   "display_name": "Python 3",
   "language": "python",
   "name": "python3"
  },
  "language_info": {
   "codemirror_mode": {
    "name": "ipython",
    "version": 3
   },
   "file_extension": ".py",
   "mimetype": "text/x-python",
   "name": "python",
   "nbconvert_exporter": "python",
   "pygments_lexer": "ipython3",
   "version": "3.7.6"
  }
 },
 "nbformat": 4,
 "nbformat_minor": 2
}
