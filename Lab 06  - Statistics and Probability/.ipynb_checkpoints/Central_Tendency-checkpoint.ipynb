{
 "cells": [
  {
   "cell_type": "markdown",
   "metadata": {},
   "source": [
    "# Central Tendency"
   ]
  },
  {
   "cell_type": "markdown",
   "metadata": {},
   "source": [
    "Mean, Median, and Mode"
   ]
  },
  {
   "cell_type": "markdown",
   "metadata": {},
   "source": [
    "#Mean - The average value\n",
    "#Median - The mid point value\n",
    "#Mode - The most common value"
   ]
  },
  {
   "cell_type": "markdown",
   "metadata": {},
   "source": [
    "# Mean"
   ]
  },
  {
   "cell_type": "code",
   "execution_count": 2,
   "metadata": {},
   "outputs": [],
   "source": [
    "#Example: We have registered the speed of 13 cars:\n",
    "speed = [99,86,87,88,111,86,103,87,94,78,77,85,86]\n",
    "#What is the average, the middle, or the most common speed value?"
   ]
  },
  {
   "cell_type": "code",
   "execution_count": 10,
   "metadata": {},
   "outputs": [
    {
     "name": "stdout",
     "output_type": "stream",
     "text": [
      "89.76923076923077\n",
      " 89.77\n"
     ]
    }
   ],
   "source": [
    "mean= (99+86+87+88+111+86+103+87+94+78+77+85+86) / 13 \n",
    "sum=0\n",
    "count=0\n",
    "for x in speed:\n",
    "    count=count+1\n",
    "    sum=sum+x\n",
    "mean=sum/count\n",
    "print(mean)\n",
    "print('% 0.2f' % mean)"
   ]
  },
  {
   "cell_type": "code",
   "execution_count": 7,
   "metadata": {},
   "outputs": [
    {
     "name": "stdout",
     "output_type": "stream",
     "text": [
      "89.76923076923077\n",
      "111\n",
      "77\n"
     ]
    }
   ],
   "source": [
    "speed = [99,86,87,88,111,86,103,87,94,78,77,85,86]\n",
    "x=sum(speed) / len(speed)\n",
    "print(x)\n",
    "print(max(speed))\n",
    "print(min(speed))\n",
    "#print(avg(speed))"
   ]
  },
  {
   "cell_type": "markdown",
   "metadata": {},
   "source": [
    "The NumPy module has a method for this:"
   ]
  },
  {
   "cell_type": "code",
   "execution_count": 8,
   "metadata": {},
   "outputs": [
    {
     "name": "stdout",
     "output_type": "stream",
     "text": [
      "89.76923076923077\n"
     ]
    }
   ],
   "source": [
    "#Use the NumPy mean() method to find the average speed:\n",
    "import numpy\n",
    "speed = [99,86,87,88,111,86,103,87,94,78,77,85,86]\n",
    "x = numpy.mean(speed)\n",
    "print(x)"
   ]
  },
  {
   "cell_type": "markdown",
   "metadata": {},
   "source": [
    "# Median"
   ]
  },
  {
   "cell_type": "code",
   "execution_count": 13,
   "metadata": {},
   "outputs": [
    {
     "name": "stdout",
     "output_type": "stream",
     "text": [
      "86.5\n"
     ]
    }
   ],
   "source": [
    "#Use the NumPy median() method to find the middle value:\n",
    "import numpy\n",
    "#speed = [99,86,87,88,111,86,103,87,94,78,77,85,86] # odd list\n",
    "speed = [99,86,87,88,86,103,87,94,78,77,85,86] # even list\n",
    "x = numpy.median(speed)\n",
    "print(x)"
   ]
  },
  {
   "cell_type": "markdown",
   "metadata": {},
   "source": [
    "# Mode"
   ]
  },
  {
   "cell_type": "markdown",
   "metadata": {},
   "source": [
    "The SciPy module has a method for this:"
   ]
  },
  {
   "cell_type": "code",
   "execution_count": null,
   "metadata": {},
   "outputs": [],
   "source": [
    "Use the SciPy mode() method to find the number that appears the most:"
   ]
  },
  {
   "cell_type": "code",
   "execution_count": 24,
   "metadata": {},
   "outputs": [
    {
     "name": "stdout",
     "output_type": "stream",
     "text": [
      "ModeResult(mode=array([86]), count=array([3]))\n",
      "[86]\n",
      "86\n",
      "[3]\n"
     ]
    }
   ],
   "source": [
    "from scipy import stats\n",
    "speed = [99,86,87,88,111,86,103,87,94,78,77,85,86]\n",
    "x = stats.mode(speed)\n",
    "print(x)\n",
    "print(x.mode)\n",
    "print(x.mode[0])\n",
    "print(x.count)\n",
    "#print(x.multimode)\n",
    "#print(stats.quantiles(speed))"
   ]
  },
  {
   "cell_type": "markdown",
   "metadata": {},
   "source": [
    "# statistics — Mathematical statistics functions"
   ]
  },
  {
   "cell_type": "markdown",
   "metadata": {},
   "source": [
    "Averages and measures of central location\n",
    "These functions calculate an average or typical value from a population or sample.\n",
    "\n",
    "#mean()\tArithmetic mean (“average”) of data.\n",
    "#median()\tMedian (middle value) of data.\n",
    "#median_low()\tLow median of data.\n",
    "#median_high()\tHigh median of data.\n",
    "#median_grouped()\tMedian, or 50th percentile, of grouped data.\n",
    "#mode()\tMode (most common value) of discrete data.\n",
    "#quantiles()Divide data into intervals with equal probability."
   ]
  },
  {
   "cell_type": "code",
   "execution_count": 26,
   "metadata": {},
   "outputs": [
    {
     "name": "stdout",
     "output_type": "stream",
     "text": [
      "2.8\n",
      "3\n",
      "4\n",
      "red\n",
      "c\n"
     ]
    }
   ],
   "source": [
    "from statistics import mean, median, mode\n",
    "l=[1, 2, 3, 4, 4]\n",
    "print(mean(l))\n",
    "print(median(l))\n",
    "print(mode(l))\n",
    "print(mode([\"red\", \"blue\", \"blue\", \"red\", \"green\", \"red\", \"red\"]))\n",
    "print(mode('abccde'))\n",
    "#print(quantiles(l))\n",
    "#print(mode('abccdee')) # multimode"
   ]
  },
  {
   "cell_type": "code",
   "execution_count": null,
   "metadata": {},
   "outputs": [],
   "source": [
    "l=[1, 2,2, 3, 4, 4]"
   ]
  },
  {
   "cell_type": "code",
   "execution_count": 27,
   "metadata": {},
   "outputs": [],
   "source": [
    "#from statistics import  multimode\n",
    "#multimode('aabbbbccddddeeffffgg')\n",
    "#multimode('')"
   ]
  },
  {
   "cell_type": "code",
   "execution_count": 28,
   "metadata": {},
   "outputs": [],
   "source": [
    "#import statistics.multimode\n",
    "#multimode('aabbbbccddddeeffffgg')\n",
    "#print(multimode('aabbbbccddddeeffffgg'))"
   ]
  },
  {
   "cell_type": "code",
   "execution_count": null,
   "metadata": {},
   "outputs": [],
   "source": []
  }
 ],
 "metadata": {
  "kernelspec": {
   "display_name": "Python 3",
   "language": "python",
   "name": "python3"
  },
  "language_info": {
   "codemirror_mode": {
    "name": "ipython",
    "version": 3
   },
   "file_extension": ".py",
   "mimetype": "text/x-python",
   "name": "python",
   "nbconvert_exporter": "python",
   "pygments_lexer": "ipython3",
   "version": "3.6.5"
  }
 },
 "nbformat": 4,
 "nbformat_minor": 2
}
