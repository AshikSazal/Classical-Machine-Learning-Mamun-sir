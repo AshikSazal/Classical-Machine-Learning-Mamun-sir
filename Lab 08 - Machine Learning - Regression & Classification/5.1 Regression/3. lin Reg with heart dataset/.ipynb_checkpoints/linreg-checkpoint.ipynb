{
 "cells": [
  {
   "cell_type": "code",
   "execution_count": 1,
   "metadata": {},
   "outputs": [
    {
     "name": "stdout",
     "output_type": "stream",
     "text": [
      "   age  sex  cp  trestbps  chol  fbs  restecg  thalach  exang  oldpeak  slope  \\\n",
      "0   63    1   1       145   233    1        2      150      0      2.3      3   \n",
      "1   67    1   4       160   286    0        2      108      1      1.5      2   \n",
      "2   67    1   4       120   229    0        2      129      1      2.6      2   \n",
      "3   37    1   3       130   250    0        0      187      0      3.5      3   \n",
      "4   41    0   2       130   204    0        2      172      0      1.4      1   \n",
      "\n",
      "   ca        thal  target  \n",
      "0   0       fixed       0  \n",
      "1   3      normal       1  \n",
      "2   2  reversible       0  \n",
      "3   0      normal       0  \n",
      "4   0      normal       0  \n",
      "Coefficients: \n",
      " [[-0.01988385  0.03751326  0.06049251  0.0455686   0.01129942  0.00964204\n",
      "  -0.00590382 -0.06753739  0.04679766  0.08674615  0.04398229  0.13220616\n",
      "   0.02220608]]\n",
      "Variance score: 0.454453412284089\n"
     ]
    },
    {
     "data": {
      "text/plain": [
       "<Figure size 640x480 with 1 Axes>"
      ]
     },
     "metadata": {},
     "output_type": "display_data"
    }
   ],
   "source": [
    "import pandas as pd\n",
    "import matplotlib.pyplot as plt \n",
    "import numpy as np \n",
    "from sklearn import linear_model, metrics \n",
    "from sklearn.preprocessing import LabelEncoder, StandardScaler\n",
    "from sklearn.model_selection import train_test_split\n",
    "\n",
    "# load the boston dataset \n",
    "dataframe =  pd.read_csv('heart.csv')\n",
    "\n",
    "print(dataframe.head())\n",
    "\n",
    "# defining feature matrix(X) and response vector(y) \n",
    "X = dataframe.iloc[:,:-1] \n",
    "y = dataframe.iloc[:,-1:]\n",
    "\n",
    "#convert categorical to numeric\n",
    "labelencoder_X=LabelEncoder()\n",
    "z = X.iloc[:,-1:]\n",
    "X.iloc[:,-1:] = labelencoder_X.fit_transform(z.values.ravel()) #array.ravel is equivalent to reshape(-1, order=order) \n",
    "\n",
    "#z score normalization\n",
    "scaller = StandardScaler()\n",
    "X = scaller.fit_transform(X)\n",
    "\n",
    "# splitting X and y into training and testing sets  \n",
    "X_train, X_test, y_train, y_test = train_test_split(X, y, test_size=0.4, random_state=1) \n",
    "\n",
    "# create linear regression object \n",
    "reg = linear_model.LinearRegression() \n",
    "\n",
    "# train the model using the training sets \n",
    "reg.fit(X_train, y_train) \n",
    "\n",
    "# regression coefficients \n",
    "print('Coefficients: \\n', reg.coef_) \n",
    "\n",
    "# variance score: 1 means perfect prediction \n",
    "print('Variance score: {}'.format(reg.score(X_test, y_test))) \n",
    "\n",
    "# plot for residual error \n",
    "\n",
    "## setting plot style \n",
    "plt.style.use('fivethirtyeight') \n",
    "\n",
    "## plotting residual errors in training data \n",
    "plt.scatter(reg.predict(X_train), reg.predict(X_train) - y_train, color = \"green\", s = 10, label = 'Train data') \n",
    "\n",
    "## plotting residual errors in test data \n",
    "plt.scatter(reg.predict(X_test), reg.predict(X_test) - y_test, color = \"blue\", s = 10, label = 'Test data') \n",
    "\n",
    "## plotting line for zero residual error \n",
    "plt.hlines(y = 0, xmin = 0, xmax = 50, linewidth = 2) \n",
    "\n",
    "## plotting legend \n",
    "plt.legend(loc = 'upper right') \n",
    "\n",
    "## plot title \n",
    "plt.title(\"Residual errors\") \n",
    "\n",
    "## function to show plot \n",
    "plt.show() \n"
   ]
  },
  {
   "cell_type": "code",
   "execution_count": null,
   "metadata": {},
   "outputs": [],
   "source": []
  },
  {
   "cell_type": "code",
   "execution_count": null,
   "metadata": {},
   "outputs": [],
   "source": []
  },
  {
   "cell_type": "code",
   "execution_count": null,
   "metadata": {},
   "outputs": [],
   "source": []
  }
 ],
 "metadata": {
  "kernelspec": {
   "display_name": "Python 3",
   "language": "python",
   "name": "python3"
  },
  "language_info": {
   "codemirror_mode": {
    "name": "ipython",
    "version": 3
   },
   "file_extension": ".py",
   "mimetype": "text/x-python",
   "name": "python",
   "nbconvert_exporter": "python",
   "pygments_lexer": "ipython3",
   "version": "3.6.5"
  }
 },
 "nbformat": 4,
 "nbformat_minor": 4
}
