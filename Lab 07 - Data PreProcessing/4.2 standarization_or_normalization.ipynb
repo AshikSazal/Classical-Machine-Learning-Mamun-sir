{
 "cells": [
  {
   "cell_type": "code",
   "execution_count": 58,
   "metadata": {},
   "outputs": [
    {
     "name": "stdout",
     "output_type": "stream",
     "text": [
      "[['Germany' 40.0 61000.0]\n",
      " ['France' 37.0 67000.0]\n",
      " ['Spain' 27.0 48000.0]\n",
      " ['Spain' 38.0 52000.0]\n",
      " ['France' 48.0 79000.0]\n",
      " ['Spain' 38.0 61000.0]\n",
      " ['France' 44.0 72000.0]\n",
      " ['France' 35.0 58000.0]]\n",
      "[['Germany' 30.0 54000.0]\n",
      " ['Germany' 50.0 83000.0]]\n"
     ]
    }
   ],
   "source": [
    "# Data Preprocessing\n",
    "\n",
    "# Importing the libraries\n",
    "import numpy as np\n",
    "import matplotlib.pyplot as plt\n",
    "import pandas as pd\n",
    "\n",
    "# Importing the dataset\n",
    "dataset = pd.read_csv('Data.csv')\n",
    "X = dataset.iloc[:, :-1].values\n",
    "y = dataset.iloc[:, 3].values\n",
    "#print(X)\n",
    "# Splitting the dataset into the Training set and Test set\n",
    "from sklearn.cross_validation import train_test_split\n",
    "X_train, X_test, y_train, y_test = train_test_split(X, y, test_size = 0.2, random_state = 0)\n",
    "\n",
    "# Taking care of missing data\n",
    "from sklearn.preprocessing import Imputer\n",
    "imputer = Imputer(missing_values = 'NaN', strategy = 'median', axis = 0)# mean, median, most_frequent\n",
    "\n",
    "imputer = imputer.fit(X_train[:, 1:3])\n",
    "X_train[:, 1:3] = imputer.transform(X_train[:, 1:3])\n",
    "print(X_train)\n",
    "\n",
    "imputer = imputer.fit(X_test[:, 1:3])\n",
    "X_test[:, 1:3] = imputer.transform(X_test[:, 1:3])\n",
    "print(X_test)"
   ]
  },
  {
   "cell_type": "markdown",
   "metadata": {},
   "source": [
    "# Encoding categorical data"
   ]
  },
  {
   "cell_type": "code",
   "execution_count": 59,
   "metadata": {},
   "outputs": [],
   "source": [
    "# Encoding the Independent Variable"
   ]
  },
  {
   "cell_type": "code",
   "execution_count": 60,
   "metadata": {},
   "outputs": [
    {
     "name": "stdout",
     "output_type": "stream",
     "text": [
      "[1 0 2 2 0 2 0 0]\n",
      "[0 0]\n"
     ]
    }
   ],
   "source": [
    "#1. LabelEncoding : \n",
    "from sklearn.preprocessing import LabelEncoder\n",
    "labelencoder_X = LabelEncoder()\n",
    "#labelencoder_X.fit_transform(X[:, 0])\n",
    "X_train[:, 0] = labelencoder_X.fit_transform(X_train[:, 0])\n",
    "print(X_train[:, 0])\n",
    "X_test[:, 0] = labelencoder_X.fit_transform(X_test[:, 0])\n",
    "print(X_test[:, 0])"
   ]
  },
  {
   "cell_type": "code",
   "execution_count": 61,
   "metadata": {},
   "outputs": [
    {
     "name": "stdout",
     "output_type": "stream",
     "text": [
      "[[0.0e+00 1.0e+00 0.0e+00 4.0e+01 6.1e+04]\n",
      " [1.0e+00 0.0e+00 0.0e+00 3.7e+01 6.7e+04]\n",
      " [0.0e+00 0.0e+00 1.0e+00 2.7e+01 4.8e+04]\n",
      " [0.0e+00 0.0e+00 1.0e+00 3.8e+01 5.2e+04]\n",
      " [1.0e+00 0.0e+00 0.0e+00 4.8e+01 7.9e+04]\n",
      " [0.0e+00 0.0e+00 1.0e+00 3.8e+01 6.1e+04]\n",
      " [1.0e+00 0.0e+00 0.0e+00 4.4e+01 7.2e+04]\n",
      " [1.0e+00 0.0e+00 0.0e+00 3.5e+01 5.8e+04]]\n"
     ]
    }
   ],
   "source": [
    "#2.OneHotEncoder :\n",
    "from sklearn.preprocessing import LabelEncoder, OneHotEncoder\n",
    "onehotencoder = OneHotEncoder(categorical_features = [0])\n",
    "#X = onehotencoder.fit_transform(X)\n",
    "X_train = onehotencoder.fit_transform(X_train).toarray()\n",
    "print(X_train)"
   ]
  },
  {
   "cell_type": "code",
   "execution_count": 62,
   "metadata": {},
   "outputs": [
    {
     "name": "stdout",
     "output_type": "stream",
     "text": [
      "[[1.0e+00 0.0e+00 4.0e+01 6.1e+04]\n",
      " [0.0e+00 0.0e+00 3.7e+01 6.7e+04]\n",
      " [0.0e+00 1.0e+00 2.7e+01 4.8e+04]\n",
      " [0.0e+00 1.0e+00 3.8e+01 5.2e+04]\n",
      " [0.0e+00 0.0e+00 4.8e+01 7.9e+04]\n",
      " [0.0e+00 1.0e+00 3.8e+01 6.1e+04]\n",
      " [0.0e+00 0.0e+00 4.4e+01 7.2e+04]\n",
      " [0.0e+00 0.0e+00 3.5e+01 5.8e+04]]\n"
     ]
    }
   ],
   "source": [
    "X_train=X_train[:,1:]\n",
    "print(X_train)"
   ]
  },
  {
   "cell_type": "code",
   "execution_count": 66,
   "metadata": {},
   "outputs": [
    {
     "name": "stdout",
     "output_type": "stream",
     "text": [
      "[[1.0e+00 0.0e+00 5.4e+04]\n",
      " [0.0e+00 1.0e+00 8.3e+04]]\n"
     ]
    }
   ],
   "source": [
    "X_test = onehotencoder.fit_transform(X_test).toarray()\n",
    "print(X_test)"
   ]
  },
  {
   "cell_type": "code",
   "execution_count": 67,
   "metadata": {},
   "outputs": [
    {
     "name": "stdout",
     "output_type": "stream",
     "text": [
      "[[0.0e+00 5.4e+04]\n",
      " [1.0e+00 8.3e+04]]\n"
     ]
    }
   ],
   "source": [
    "X_test=X_test[:,1:]\n",
    "print(X_test)"
   ]
  },
  {
   "cell_type": "code",
   "execution_count": 69,
   "metadata": {},
   "outputs": [
    {
     "name": "stdout",
     "output_type": "stream",
     "text": [
      "[[ 2.64575131 -0.77459667  0.27978024 -0.13108063]\n",
      " [-0.37796447 -0.77459667 -0.23673712  0.49810638]\n",
      " [-0.37796447  1.29099445 -1.95846165 -1.49431914]\n",
      " [-0.37796447  1.29099445 -0.06456467 -1.07486114]\n",
      " [-0.37796447 -0.77459667  1.65715986  1.75648039]\n",
      " [-0.37796447  1.29099445 -0.06456467 -0.13108063]\n",
      " [-0.37796447 -0.77459667  0.96847005  1.02242888]\n",
      " [-0.37796447 -0.77459667 -0.58108203 -0.44567413]]\n"
     ]
    }
   ],
   "source": [
    "# Feature Scaling\n",
    "from sklearn.preprocessing import StandardScaler\n",
    "sc_X = StandardScaler()\n",
    "X_train = sc_X.fit_transform(X_train)\n",
    "#X_test = sc_X.transform(X_test)\n",
    "print(X_train)\n",
    "#print(X_test)"
   ]
  },
  {
   "cell_type": "code",
   "execution_count": null,
   "metadata": {},
   "outputs": [],
   "source": []
  }
 ],
 "metadata": {
  "kernelspec": {
   "display_name": "Python 3",
   "language": "python",
   "name": "python3"
  },
  "language_info": {
   "codemirror_mode": {
    "name": "ipython",
    "version": 3
   },
   "file_extension": ".py",
   "mimetype": "text/x-python",
   "name": "python",
   "nbconvert_exporter": "python",
   "pygments_lexer": "ipython3",
   "version": "3.6.5"
  }
 },
 "nbformat": 4,
 "nbformat_minor": 2
}
