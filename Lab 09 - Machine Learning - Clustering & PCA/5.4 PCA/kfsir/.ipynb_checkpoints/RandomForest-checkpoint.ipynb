{
 "cells": [
  {
   "cell_type": "code",
   "execution_count": 3,
   "metadata": {},
   "outputs": [
    {
     "name": "stdout",
     "output_type": "stream",
     "text": [
      "Accuracy: 0.8114754098360656\n"
     ]
    }
   ],
   "source": [
    "import pandas as pd\n",
    "import numpy as np \n",
    "from sklearn import ensemble, metrics\n",
    "from sklearn.preprocessing import LabelEncoder, StandardScaler\n",
    "from sklearn.model_selection import train_test_split\n",
    "\n",
    "# load the boston dataset \n",
    "dataframe =  pd.read_csv('heart.csv')\n",
    "\n",
    "# defining feature matrix(X) and response vector(y) \n",
    "X = dataframe.iloc[:,:-1] \n",
    "y = dataframe.iloc[:,-1:]\n",
    "\n",
    "#convert categorical to numeric\n",
    "labelencoder_X=LabelEncoder()\n",
    "z = X.iloc[:,-1:]\n",
    "X.iloc[:,-1:] = labelencoder_X.fit_transform(z.values.ravel())\n",
    "\n",
    "#z score normalization\n",
    "scaller = StandardScaler()\n",
    "X = scaller.fit_transform(X)\n",
    "\n",
    "# splitting X and y into training and testing sets  \n",
    "X_train, X_test, y_train, y_test = train_test_split(X, y, test_size=0.4, random_state=1) \n",
    "\n",
    "# Create Random Forest classifer object\n",
    "clf = ensemble.RandomForestClassifier()\n",
    "\n",
    "# Train Random Forest Classifer\n",
    "clf = clf.fit(X_train,y_train.values.ravel())\n",
    "\n",
    "#Predict the response for test dataset\n",
    "y_pred = clf.predict(X_test)\n",
    "\n",
    "# Model Accuracy, how often is the classifier correct?\n",
    "print(\"Accuracy:\",metrics.accuracy_score(y_test, y_pred))\n"
   ]
  },
  {
   "cell_type": "code",
   "execution_count": null,
   "metadata": {},
   "outputs": [],
   "source": []
  },
  {
   "cell_type": "code",
   "execution_count": null,
   "metadata": {},
   "outputs": [],
   "source": []
  }
 ],
 "metadata": {
  "kernelspec": {
   "display_name": "Python 3",
   "language": "python",
   "name": "python3"
  },
  "language_info": {
   "codemirror_mode": {
    "name": "ipython",
    "version": 3
   },
   "file_extension": ".py",
   "mimetype": "text/x-python",
   "name": "python",
   "nbconvert_exporter": "python",
   "pygments_lexer": "ipython3",
   "version": "3.6.5"
  }
 },
 "nbformat": 4,
 "nbformat_minor": 4
}
