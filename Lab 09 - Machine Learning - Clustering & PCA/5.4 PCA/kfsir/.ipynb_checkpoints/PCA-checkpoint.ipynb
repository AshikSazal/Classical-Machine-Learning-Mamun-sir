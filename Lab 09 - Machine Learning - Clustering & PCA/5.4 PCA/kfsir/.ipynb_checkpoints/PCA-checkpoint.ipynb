{
 "cells": [
  {
   "cell_type": "code",
   "execution_count": 35,
   "metadata": {},
   "outputs": [
    {
     "name": "stdout",
     "output_type": "stream",
     "text": [
      "[0.74581898 0.15191116 0.08501591]\n",
      "[[ 3.38114931e-02 -1.81958839e-03  2.22475186e-03  4.54597552e-02\n",
      "   9.98325574e-01  6.01705860e-07  3.20979485e-03  1.05837143e-02\n",
      "   4.65223256e-04  7.50699355e-04  7.93013974e-05  1.81772487e-03\n",
      "   1.25456677e-03]\n",
      " [ 1.80275646e-01  1.09883895e-03  1.07959715e-02  1.38748197e-01\n",
      "  -2.17937437e-03  8.60943921e-04  3.65765850e-03 -9.73397817e-01\n",
      "   7.50132343e-03  1.78404060e-02  9.66048436e-03  1.17752635e-02\n",
      "   1.77682066e-03]\n",
      " [ 1.25136028e-01 -1.42503675e-03 -7.52063781e-03  9.77301878e-01\n",
      "  -5.04830439e-02  3.98801195e-03  6.15960285e-03  1.62733337e-01\n",
      "  -5.17119521e-04  8.15213555e-03  1.54075304e-03  3.13041385e-03\n",
      "  -6.05517422e-05]]\n"
     ]
    }
   ],
   "source": [
    "import pandas as pd\n",
    "import numpy as np \n",
    "from sklearn.preprocessing import LabelEncoder\n",
    "from sklearn.decomposition import PCA \n",
    "\n",
    "# load the boston dataset \n",
    "dataframe =  pd.read_csv('heart.csv')\n",
    "\n",
    "X = dataframe.iloc[:,:-1]\n",
    "\n",
    "\n",
    "#convert categorical to numeric\n",
    "labelencoder_X=LabelEncoder()\n",
    "z = X.iloc[:,-1:]\n",
    "X.iloc[:,-1:] = labelencoder_X.fit_transform(z.values.ravel())\n",
    "\n",
    "X = X.values\n",
    "\n",
    "#95% varience\n",
    "pca = PCA(n_components=0.95) \n",
    "\n",
    "pca.fit(X)\n",
    "\n",
    "#apply pca to training set\n",
    "reduced_X = pca.transform(X) \n",
    "\n",
    "print(pca.explained_variance_ratio_)\n",
    "\n",
    "print(pca.components_)\n",
    "\n"
   ]
  },
  {
   "cell_type": "code",
   "execution_count": null,
   "metadata": {},
   "outputs": [],
   "source": []
  },
  {
   "cell_type": "code",
   "execution_count": null,
   "metadata": {},
   "outputs": [],
   "source": []
  }
 ],
 "metadata": {
  "kernelspec": {
   "display_name": "Python 3",
   "language": "python",
   "name": "python3"
  },
  "language_info": {
   "codemirror_mode": {
    "name": "ipython",
    "version": 3
   },
   "file_extension": ".py",
   "mimetype": "text/x-python",
   "name": "python",
   "nbconvert_exporter": "python",
   "pygments_lexer": "ipython3",
   "version": "3.6.5"
  }
 },
 "nbformat": 4,
 "nbformat_minor": 4
}
